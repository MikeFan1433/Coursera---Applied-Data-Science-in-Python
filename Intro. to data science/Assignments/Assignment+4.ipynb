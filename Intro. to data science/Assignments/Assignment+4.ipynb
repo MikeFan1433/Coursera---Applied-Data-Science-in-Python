{
 "cells": [
  {
   "cell_type": "markdown",
   "metadata": {},
   "source": [
    "---\n",
    "\n",
    "_You are currently looking at **version 1.1** of this notebook. To download notebooks and datafiles, as well as get help on Jupyter notebooks in the Coursera platform, visit the [Jupyter Notebook FAQ](https://www.coursera.org/learn/python-data-analysis/resources/0dhYG) course resource._\n",
    "\n",
    "---"
   ]
  },
  {
   "cell_type": "code",
   "execution_count": 21,
   "metadata": {
    "collapsed": true
   },
   "outputs": [],
   "source": [
    "import pandas as pd\n",
    "import numpy as np\n",
    "from scipy.stats import ttest_ind"
   ]
  },
  {
   "cell_type": "markdown",
   "metadata": {},
   "source": [
    "# Assignment 4 - Hypothesis Testing\n",
    "This assignment requires more individual learning than previous assignments - you are encouraged to check out the [pandas documentation](http://pandas.pydata.org/pandas-docs/stable/) to find functions or methods you might not have used yet, or ask questions on [Stack Overflow](http://stackoverflow.com/) and tag them as pandas and python related. And of course, the discussion forums are open for interaction with your peers and the course staff.\n",
    "\n",
    "Definitions:\n",
    "* A _quarter_ is a specific three month period, Q1 is January through March, Q2 is April through June, Q3 is July through September, Q4 is October through December.\n",
    "* A _recession_ is defined as starting with two consecutive quarters of GDP decline, and ending with two consecutive quarters of GDP growth.\n",
    "* A _recession bottom_ is the quarter within a recession which had the lowest GDP.\n",
    "* A _university town_ is a city which has a high percentage of university students compared to the total population of the city.\n",
    "\n",
    "**Hypothesis**: University towns have their mean housing prices less effected by recessions. Run a t-test to compare the ratio of the mean price of houses in university towns the quarter before the recession starts compared to the recession bottom. (`price_ratio=quarter_before_recession/recession_bottom`)\n",
    "\n",
    "The following data files are available for this assignment:\n",
    "* From the [Zillow research data site](http://www.zillow.com/research/data/) there is housing data for the United States. In particular the datafile for [all homes at a city level](http://files.zillowstatic.com/research/public/City/City_Zhvi_AllHomes.csv), ```City_Zhvi_AllHomes.csv```, has median home sale prices at a fine grained level.\n",
    "* From the Wikipedia page on college towns is a list of [university towns in the United States](https://en.wikipedia.org/wiki/List_of_college_towns#College_towns_in_the_United_States) which has been copy and pasted into the file ```university_towns.txt```.\n",
    "* From Bureau of Economic Analysis, US Department of Commerce, the [GDP over time](http://www.bea.gov/national/index.htm#gdp) of the United States in current dollars (use the chained value in 2009 dollars), in quarterly intervals, in the file ```gdplev.xls```. For this assignment, only look at GDP data from the first quarter of 2000 onward.\n",
    "\n",
    "Each function in this assignment below is worth 10%, with the exception of ```run_ttest()```, which is worth 50%."
   ]
  },
  {
   "cell_type": "code",
   "execution_count": 22,
   "metadata": {
    "collapsed": true
   },
   "outputs": [],
   "source": [
    "# Use this dictionary to map state names to two letter acronyms\n",
    "states = {'OH': 'Ohio', 'KY': 'Kentucky', 'AS': 'American Samoa', 'NV': 'Nevada', 'WY': 'Wyoming', 'NA': 'National', 'AL': 'Alabama', 'MD': 'Maryland', 'AK': 'Alaska', 'UT': 'Utah', 'OR': 'Oregon', 'MT': 'Montana', 'IL': 'Illinois', 'TN': 'Tennessee', 'DC': 'District of Columbia', 'VT': 'Vermont', 'ID': 'Idaho', 'AR': 'Arkansas', 'ME': 'Maine', 'WA': 'Washington', 'HI': 'Hawaii', 'WI': 'Wisconsin', 'MI': 'Michigan', 'IN': 'Indiana', 'NJ': 'New Jersey', 'AZ': 'Arizona', 'GU': 'Guam', 'MS': 'Mississippi', 'PR': 'Puerto Rico', 'NC': 'North Carolina', 'TX': 'Texas', 'SD': 'South Dakota', 'MP': 'Northern Mariana Islands', 'IA': 'Iowa', 'MO': 'Missouri', 'CT': 'Connecticut', 'WV': 'West Virginia', 'SC': 'South Carolina', 'LA': 'Louisiana', 'KS': 'Kansas', 'NY': 'New York', 'NE': 'Nebraska', 'OK': 'Oklahoma', 'FL': 'Florida', 'CA': 'California', 'CO': 'Colorado', 'PA': 'Pennsylvania', 'DE': 'Delaware', 'NM': 'New Mexico', 'RI': 'Rhode Island', 'MN': 'Minnesota', 'VI': 'Virgin Islands', 'NH': 'New Hampshire', 'MA': 'Massachusetts', 'GA': 'Georgia', 'ND': 'North Dakota', 'VA': 'Virginia'}"
   ]
  },
  {
   "cell_type": "code",
   "execution_count": 23,
   "metadata": {
    "collapsed": true,
    "umich_part_id": "021",
    "umich_partlist_id": "004"
   },
   "outputs": [],
   "source": [
    "def get_list_of_university_towns():\n",
    "    '''Returns a DataFrame of towns and the states they are in from the \n",
    "    university_towns.txt list. The format of the DataFrame should be:\n",
    "    DataFrame( [ [\"Michigan\", \"Ann Arbor\"], [\"Michigan\", \"Yipsilanti\"] ], \n",
    "    columns=[\"State\", \"RegionName\"]  )\n",
    "    \n",
    "    The following cleaning needs to be done:\n",
    "\n",
    "    1. For \"State\", removing characters from \"[\" to the end.\n",
    "    2. For \"RegionName\", when applicable, removing every character from \" (\" to the end.\n",
    "    3. Depending on how you read the data, you may need to remove newline character '\\n'. '''\n",
    "    df = []\n",
    "    with open('university_towns.txt') as file:\n",
    "        \n",
    "        for line in file:\n",
    "            if (line.strip().endswith('[edit]')):\n",
    "                State = line.strip()[:-6]\n",
    "            else:\n",
    "                df.append([State, line.split('(')[0].strip()])\n",
    "    Towns = pd.DataFrame(df, columns = ['State', 'RegionName'])\n",
    "    \n",
    "    return Towns"
   ]
  },
  {
   "cell_type": "code",
   "execution_count": 24,
   "metadata": {
    "collapsed": true,
    "umich_part_id": "022",
    "umich_partlist_id": "004"
   },
   "outputs": [],
   "source": [
    "def get_recession_start():\n",
    "    '''Returns the year and quarter of the recession start time as a \n",
    "    string value in a format such as 2005q3'''\n",
    "    gdp = pd.read_excel('gdplev.xls', skiprows = 5, usecols = [4,5,6])\n",
    "    gdp.set_index('Unnamed: 4', inplace = True)\n",
    "    gdp = gdp.loc['2000q1':, 'GDP in billions of chained 2009 dollars.1'].reset_index()\n",
    "    gdp.columns = ['Quarter', 'GDP']\n",
    "\n",
    "    recession = []\n",
    "    for q in range(len(gdp) - 4):\n",
    "        if ((gdp.iloc[q][1] > gdp.iloc[q+1][1]) & (gdp.iloc[q+1][1] > gdp.iloc[q+2][1])):\n",
    "            recession.append(gdp.iloc[q][0])\n",
    "    \n",
    "    return recession[0]"
   ]
  },
  {
   "cell_type": "code",
   "execution_count": 25,
   "metadata": {
    "collapsed": true,
    "umich_part_id": "023",
    "umich_partlist_id": "004"
   },
   "outputs": [],
   "source": [
    "def get_recession_end():\n",
    "    '''Returns the year and quarter of the recession end time as a \n",
    "    string value in a format such as 2005q3'''\n",
    "    gdp = pd.read_excel('gdplev.xls', skiprows = 5, usecols = [4,5,6])\n",
    "    gdp.set_index('Unnamed: 4', inplace = True)\n",
    "    gdp = gdp.loc['2000q1':, 'GDP in billions of chained 2009 dollars.1'].reset_index()\n",
    "    gdp.columns = ['Quarter', 'GDP']\n",
    "    \n",
    "    recession = []\n",
    "    for q in range(len(gdp) - 4):\n",
    "        if ((gdp.iloc[q][1] > gdp.iloc[q+1][1]) & (gdp.iloc[q+1][1] > gdp.iloc[q+2][1]) & (gdp.iloc[q+2][1] < gdp.iloc[q+3][1]) & (gdp.iloc[q+3][1] < gdp.iloc[q+4][1])):\n",
    "            recession.append(([gdp.iloc[q][0],gdp.iloc[q+1][0],gdp.iloc[q+2][0],gdp.iloc[q+3][0],gdp.iloc[q+4][0]])) \n",
    "            \n",
    "    return recession[0][4]"
   ]
  },
  {
   "cell_type": "code",
   "execution_count": 26,
   "metadata": {
    "collapsed": true,
    "umich_part_id": "024",
    "umich_partlist_id": "004"
   },
   "outputs": [],
   "source": [
    "def get_recession_bottom():\n",
    "    '''Returns the year and quarter of the recession bottom time as a \n",
    "    string value in a format such as 2005q3'''\n",
    "    gdp = pd.read_excel('gdplev.xls', skiprows = 5, usecols = [4,5,6])\n",
    "    gdp.set_index('Unnamed: 4', inplace = True)\n",
    "    gdp = gdp.loc['2000q1':, 'GDP in billions of chained 2009 dollars.1'].reset_index()\n",
    "    gdp.columns = ['Quarter', 'GDP']\n",
    "    \n",
    "    recession = []\n",
    "    for q in range(len(gdp) - 4):\n",
    "        \n",
    "        if ((gdp.iloc[q][1] > gdp.iloc[q+1][1]) & (gdp.iloc[q+1][1] > gdp.iloc[q+2][1]) & (gdp.iloc[q+2][1] < gdp.iloc[q+3][1]) & (gdp.iloc[q+3][1] < gdp.iloc[q+4][1])):\n",
    "            recession.append(([gdp.iloc[q][0],gdp.iloc[q+1][0],gdp.iloc[q+2][0],gdp.iloc[q+3][0],gdp.iloc[q+4][0]]))    \n",
    "    \n",
    "    return recession[0][2]"
   ]
  },
  {
   "cell_type": "code",
   "execution_count": 27,
   "metadata": {},
   "outputs": [
    {
     "data": {
      "text/plain": [
       "'2009q2'"
      ]
     },
     "execution_count": 27,
     "metadata": {},
     "output_type": "execute_result"
    }
   ],
   "source": [
    "get_recession_bottom()"
   ]
  },
  {
   "cell_type": "code",
   "execution_count": 28,
   "metadata": {
    "collapsed": true,
    "umich_part_id": "025",
    "umich_partlist_id": "004"
   },
   "outputs": [],
   "source": [
    "def convert_housing_data_to_quarters():\n",
    "    '''Converts the housing data to quarters and returns it as mean \n",
    "    values in a dataframe. This dataframe should be a dataframe with\n",
    "    columns for 2000q1 through 2016q3, and should have a multi-index\n",
    "    in the shape of [\"State\",\"RegionName\"].\n",
    "    \n",
    "    Note: Quarters are defined in the assignment description, they are\n",
    "    not arbitrary three month periods.\n",
    "    \n",
    "    The resulting dataframe should have 67 columns, and 10,730 rows.\n",
    "    '''\n",
    "    housing = pd.read_csv('City_Zhvi_AllHomes.csv')\n",
    "    housing = housing.iloc[:, :6].join(housing.loc[:, '2000-01':'2016-08'])\n",
    "    housing['State'] = housing['State'].map(states)\n",
    "    housing = housing.drop(['RegionID', 'Metro', 'CountyName', 'SizeRank'], axis = 'columns')\n",
    "    \n",
    "    \n",
    "    for q in range(2000, 2017):\n",
    "        if q != 2016:\n",
    "            housing[str(q) + 'q1'] = housing[[str(q) + '-01', str(q) + '-02', str(q) + '-03']].mean(axis = 1)\n",
    "            housing[str(q) + 'q2'] = housing[[str(q) + '-04', str(q) + '-05', str(q) + '-06']].mean(axis = 1)\n",
    "            housing[str(q) + 'q3'] = housing[[str(q) + '-07', str(q) + '-08', str(q) + '-09']].mean(axis = 1)\n",
    "            housing[str(q) + 'q4'] = housing[[str(q) + '-10', str(q) + '-11', str(q) + '-12']].mean(axis = 1)\n",
    "        else:\n",
    "            housing[str(q) + 'q1'] = housing[[str(q) + '-01', str(q) + '-02', str(q) + '-03']].mean(axis = 1)\n",
    "            housing[str(q) + 'q2'] = housing[[str(q) + '-04', str(q) + '-05', str(q) + '-06']].mean(axis = 1)\n",
    "            housing[str(q) + 'q3'] = housing[[str(q) + '-07', str(q) + '-08']].mean(axis = 1)\n",
    "            \n",
    "    housing = housing.loc[:, ['RegionName','State']].join(housing.loc[:, '2000q1':'2016q3'])\n",
    "    housing = housing.set_index(['State','RegionName'])\n",
    "\n",
    "    return housing"
   ]
  },
  {
   "cell_type": "code",
   "execution_count": null,
   "metadata": {
    "collapsed": true,
    "umich_part_id": "026",
    "umich_partlist_id": "004"
   },
   "outputs": [],
   "source": [
    "def run_ttest():\n",
    "    '''First creates new data showing the decline or growth of housing prices\n",
    "    between the recession start and the recession bottom. Then runs a ttest\n",
    "    comparing the university town values to the non-university towns values, \n",
    "    return whether the alternative hypothesis (that the two groups are the same)\n",
    "    is true or not as well as the p-value of the confidence. \n",
    "    \n",
    "    Return the tuple (different, p, better) where different=True if the t-test is\n",
    "    True at a p<0.01 (we reject the null hypothesis), or different=False if \n",
    "    otherwise (we cannot reject the null hypothesis). The variable p should\n",
    "    be equal to the exact p value returned from scipy.stats.ttest_ind(). The\n",
    "    value for better should be either \"university town\" or \"non-university town\"\n",
    "    depending on which has a lower mean price ratio (which is equivilent to a\n",
    "    reduced market loss).'''\n",
    "    towns = get_list_of_university_towns()\n",
    "    recession_s = get_recession_start()\n",
    "    recession_e = get_recession_end()\n",
    "    recession_b = get_recession_bottom()\n",
    "    housing = convert_housing_data_to_quarters()\n",
    "    \n",
    "    university_towns = pd.merge(towns, housing, left_on = ['State', 'RegionName'], right_index = True, how = 'inner')\n",
    "    non_university_towns = housing[~housing.index.isin(towns.set_index(['State','RegionName']).index)]\n",
    "\n",
    "    university_towns['diff'] = university_towns[recession_s] - university_towns[recession_b]\n",
    "    non_university_towns['diff'] = non_university_towns[recession_s] - non_university_towns[recession_b]\n",
    "\n",
    "    t, p = ttest_ind(university_towns['diff'].dropna(), non_university_towns['diff'].dropna())\n",
    "\n",
    "    different = True if p < 0.01 else False \n",
    "\n",
    "    better = \"university town\" if university_towns['diff'].mean() < non_university_towns['diff'].mean() else \"non-university town\"\n",
    "    \n",
    "    return (different, p, better)"
   ]
  }
 ],
 "metadata": {
  "coursera": {
   "course_slug": "python-data-analysis",
   "graded_item_id": "Il9Fx",
   "launcher_item_id": "TeDW0",
   "part_id": "WGlun"
  },
  "kernelspec": {
   "display_name": "Python 3",
   "language": "python",
   "name": "python3"
  },
  "language_info": {
   "codemirror_mode": {
    "name": "ipython",
    "version": 3
   },
   "file_extension": ".py",
   "mimetype": "text/x-python",
   "name": "python",
   "nbconvert_exporter": "python",
   "pygments_lexer": "ipython3",
   "version": "3.6.2"
  },
  "umich": {
   "id": "Assignment 4",
   "version": "1.1"
  }
 },
 "nbformat": 4,
 "nbformat_minor": 1
}
